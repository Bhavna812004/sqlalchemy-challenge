{
 "cells": [
  {
   "cell_type": "code",
   "execution_count": 1,
   "metadata": {},
   "outputs": [],
   "source": [
    "import numpy as np\n",
    "import datetime as dt\n",
    "import sqlalchemy\n",
    "from sqlalchemy.ext.automap import automap_base\n",
    "from sqlalchemy.orm import Session\n",
    "from sqlalchemy import create_engine, func, desc\n",
    "from flask import Flask, jsonify, request\n",
    "from werkzeug.wrappers import Request, Response\n",
    "\n",
    "# Base using 'automap_base()'\n",
    "Base = automap_base()\n",
    "\n",
    "# Reflect Database into ORM classes\n",
    "engine = create_engine('sqlite:///Resources/hawaii.sqlite', echo=False)\n",
    "Base.prepare(engine, reflect=True)\n",
    "\n",
    "# Save measurenment table as 'Measurement'\n",
    "Measurement = Base.classes.measurement\n",
    "\n",
    "# Save station table as 'Station'\n",
    "Station = Base.classes.station\n",
    "\n",
    "# Create our session (link) from Python to the DB\n",
    "session = Session(engine)"
   ]
  },
  {
   "cell_type": "code",
   "execution_count": 2,
   "metadata": {},
   "outputs": [
    {
     "name": "stderr",
     "output_type": "stream",
     "text": [
      " * Running on http://localhost:9000/ (Press CTRL+C to quit)\n",
      "127.0.0.1 - - [02/May/2020 21:49:18] \"GET / HTTP/1.1\" 200 -\n",
      "127.0.0.1 - - [02/May/2020 21:49:21] \"GET /api/v1.0/precipitation HTTP/1.1\" 200 -\n",
      "127.0.0.1 - - [02/May/2020 21:49:26] \"GET /api/v1.0/stations HTTP/1.1\" 200 -\n",
      "127.0.0.1 - - [02/May/2020 21:49:30] \"GET /api/v1.0/temp/?start= HTTP/1.1\" 200 -\n",
      "127.0.0.1 - - [02/May/2020 21:49:39] \"GET / HTTP/1.1\" 200 -\n",
      "127.0.0.1 - - [02/May/2020 21:49:44] \"GET /api/v1.0/temp/?start=2016-01-11 HTTP/1.1\" 200 -\n",
      "127.0.0.1 - - [02/May/2020 21:50:01] \"GET /api/v1.0/range/?start=2016-01-11&end=2017-02-01 HTTP/1.1\" 200 -\n",
      "127.0.0.1 - - [02/May/2020 21:50:23] \"GET /api/v1.0/tobs HTTP/1.1\" 200 -\n"
     ]
    }
   ],
   "source": [
    "app = Flask(__name__)\n",
    "\n",
    "@app.route(\"/\")\n",
    "\n",
    "def welcome():\n",
    "   \n",
    "    return (\n",
    "        \"<h1> Climate Analysis and Exploration for Hawaii</h1>\"\n",
    "        \"<img src='https://cdn.travelpulse.com/images/54aaedf4-a957-df11-b491-006073e71405/ee952e9e-f09c-49c2-bc5d-4303c880173a/630x355.jpg'>\"\n",
    "        \n",
    "        \"<h3>Pick from the available routes below:</h3>\"\n",
    "        \n",
    "        \"<br>Precipitation data for last 1 year (08/22/16 - 08/23/17)<br/>\"\n",
    "        \"<a target='_blank' href='http://localhost:9000/api/v1.0/precipitation'>Precipitation Data</a><br/>\"\n",
    "        \n",
    "        \"<br>List of all the weather stations in Hawaii.<br/>\"\n",
    "        \"<a target='_blank'href= 'http://localhost:9000/api/v1.0/stations'>Weather Stations Data</a><br/><br/>\"\n",
    "        \n",
    "        \"The Temperature Observations (tobs) for last 1 year (08/22/16 - 08/23/17).<br/>\"\n",
    "        \"<a target='_blank' href='http://localhost:9000/api/v1.0/tobs'>Temperature Observations Data</a><br/><br/>\"\n",
    "        \n",
    "        \"<br>Type in a single date (between 01/01/10 to 08/23/17) to see the min, max & avg temperature<br/>\"\n",
    "            \"<form action='http://localhost:9000/api/v1.0/temp/' method='get'>\"\n",
    "                \"<input name='start' id='start' value='' placeholder='yyyy-mm-dd'>\"\n",
    "                \"<div><button>Enter</button></div>\"\n",
    "            \"</form>\"\n",
    "        \n",
    "        \"Type in the start and end dates to see the min, max and avg temperature for that range.<br/>\"\n",
    "        \"<form action='http://localhost:9000/api/v1.0/range/' method='get'>\" \n",
    "            \"Start Date:<input name='start' id='start' value='' placeholder='yyyy-mm-dd'><br/>\"\n",
    "            \"End Date  :<input name='end' id='end' value='' placeholder='yyyy-mm-dd'>\"\n",
    "            \"<div><button>Enter</button></div>\"\n",
    "        \"</form>\"        \n",
    "    )\n",
    "\n",
    "#last data point available is 8.23\n",
    "start_date = dt.date(2017, 8, 23) - dt.timedelta(days=366)\n",
    "\n",
    "@app.route(\"/api/v1.0/precipitation\")\n",
    "def precipitation():\n",
    "\n",
    "    # Retrievelat 1 years precipitation data\n",
    "    results = session.query(Measurement.date, Measurement.prcp).filter(Measurement.date > start_date).\\\n",
    "                order_by(Measurement.date).all()\n",
    "\n",
    "    # Create a dictionary\n",
    "    temp_data = []\n",
    "    for prcp_data in results:\n",
    "        data_dict = {}\n",
    "        data_dict[\"Date\"] = prcp_data.date\n",
    "        data_dict[\"Precipitation\"] = prcp_data.prcp\n",
    "        temp_data.append(data_dict) \n",
    "    return jsonify(temp_data)\n",
    "\n",
    "\n",
    "@app.route(\"/api/v1.0/stations\")\n",
    "def stations():\n",
    "    results = session.query(Station.name).all()\n",
    "    all_stations = list(np.ravel(results))\n",
    "    return jsonify(all_stations)\n",
    "\n",
    "\n",
    "@app.route(\"/api/v1.0/tobs\")\n",
    "\n",
    "def tobs():\n",
    "    \n",
    "    # Query all the stations for the given date\n",
    "    results = session.query(Measurement.station, Measurement.date, Measurement.tobs).group_by(Measurement.date).\\\n",
    "                    filter(Measurement.date > start_date).order_by(Measurement.station).all()\n",
    "                    \n",
    "    # Create a dictionary \n",
    "    temp_data = []\n",
    "    for tobs_data in results:\n",
    "        data_dict = {}\n",
    "        data_dict[\"Station\"] = tobs_data.station\n",
    "        data_dict[\"Date\"] = tobs_data.date\n",
    "        data_dict[\"Temperature\"] = tobs_data.tobs\n",
    "        temp_data.append(data_dict)\n",
    "    return jsonify(temp_data)\n",
    "\n",
    "\n",
    "@app.route(\"/api/v1.0/temp/\", methods=['get'])\n",
    "\n",
    "def start_stats(start=None):\n",
    "    \n",
    "    start = request.args.get('start')\n",
    "    \n",
    "    # Query all the stations for the given date \n",
    "    results = session.query(func.min(Measurement.tobs), func.max(Measurement.tobs),func.avg(Measurement.tobs)).\\\n",
    "                filter(Measurement.date >= start).all()\n",
    "\n",
    "    # Create a dictionary \n",
    "    temp_data = []\n",
    "    for Tmin, Tmax, Tavg in results:\n",
    "        data_dict = {}\n",
    "        data_dict[\"Minimum Temp\"] = Tmin\n",
    "        data_dict[\"Maximum Temp\"] = Tmax\n",
    "        data_dict[\"Average Temp\"] = Tavg\n",
    "        temp_data.append(data_dict)\n",
    "    return jsonify(temp_data)\n",
    "\n",
    "\n",
    "@app.route(\"/api/v1.0/range/\", methods=['get'])\n",
    "def calc_stats(start=None, end=None):\n",
    "    \n",
    "    start = request.args.get('start')\n",
    "    end = request.args.get('end') \n",
    "    \n",
    "    # Query stations for relative data\n",
    "    results = session.query(func.min(Measurement.tobs), func.max(Measurement.tobs),func.avg(Measurement.tobs)).\\\n",
    "                filter(Measurement.date >= start).filter(Measurement.date <= end).all()\n",
    "\n",
    "    # Create a dictionary\n",
    "    temp_data = []\n",
    "    for Tmin, Tmax, Tavg in results:\n",
    "        data_dict = {}\n",
    "        data_dict[\"Minimum Temp\"] = Tmin\n",
    "        data_dict[\"Maximum Temp\"] = Tmax\n",
    "        data_dict[\"Average Temp\"] = Tavg\n",
    "        data_dict['start']=start\n",
    "        data_dict['end']=end\n",
    "        temp_data.append(data_dict)\n",
    "    return jsonify(temp_data)\n",
    "\n",
    "@app.route('/api/v1.0/datesearch/<startDate>')\n",
    "def start(startDate):\n",
    "    sel = [Measurement.date, func.min(Measurement.tobs), func.avg(Measurement.tobs), func.max(Measurement.tobs)]\n",
    "    #Query result by start date\n",
    "    results =  (session.query(*sel).filter(func.strftime(\"%Y-%m-%d\", Measurement.date) >= startDate)\n",
    "                .group_by(Measurement.date).all())\n",
    "\n",
    "    # Create a dictionary\n",
    "    temp_data = []                       \n",
    "    for result in results:\n",
    "        data_dict = {}\n",
    "        data_dict[\"Date\"] = result[0]\n",
    "        data_dict[\"Low Temp\"] = result[1]\n",
    "        data_dict[\"Avg Temp\"] = result[2]\n",
    "        data_dict[\"High Temp\"] = result[3]\n",
    "        temp_data.append(data_dict)\n",
    "    return jsonify(temp_data)\n",
    "\n",
    "\n",
    "@app.route('/api/v1.0/datesearch/<startDate>/<endDate>')\n",
    "def startEnd(startDate, endDate):\n",
    "    sel = [Measurement.date, func.min(Measurement.tobs), func.avg(Measurement.tobs), func.max(Measurement.tobs)]\n",
    "\n",
    "    results =  (session.query(*sel).filter(func.strftime(\"%Y-%m-%d\", Measurement.date) >= startDate)\n",
    "                       .filter(func.strftime(\"%Y-%m-%d\", Measurement.date) <= endDate)\n",
    "                       .group_by(Measurement.date).all())\n",
    "\n",
    "    temp_data = []                       \n",
    "    for result in results:\n",
    "        data_dict = {}\n",
    "        data_dict[\"Date\"] = result[0]\n",
    "        data_dict[\"Low Temp\"] = result[1]\n",
    "        data_dict[\"Avg Temp\"] = result[2]\n",
    "        data_dict[\"High Temp\"] = result[3]\n",
    "        temp_data.append(data_dict)\n",
    "    return jsonify(temp_data)\n",
    "\n",
    "#run the app localhost\n",
    "if __name__ == '__main__':\n",
    "    from werkzeug.serving import run_simple\n",
    "    run_simple('localhost', 9000, app)"
   ]
  },
  {
   "cell_type": "markdown",
   "metadata": {},
   "source": [
    "## Bonus Challenge Assignment"
   ]
  },
  {
   "cell_type": "code",
   "execution_count": 4,
   "metadata": {},
   "outputs": [
    {
     "name": "stdout",
     "output_type": "stream",
     "text": [
      "[(62.0, 69.57142857142857, 74.0)]\n"
     ]
    }
   ],
   "source": [
    "# This function called `calc_temps` will accept start date and end date in the format '%Y-%m-%d' \n",
    "# and return the minimum, average, and maximum temperatures for that range of dates\n",
    "def calc_temps(start_date, end_date):\n",
    "    \"\"\"TMIN, TAVG, and TMAX for a list of dates.\n",
    "    \n",
    "    Args:\n",
    "        start_date (string): A date string in the format %Y-%m-%d\n",
    "        end_date (string): A date string in the format %Y-%m-%d\n",
    "        \n",
    "    Returns:\n",
    "        TMIN, TAVE, and TMAX\n",
    "    \"\"\"\n",
    "    \n",
    "    return session.query(func.min(Measurement.tobs), func.avg(Measurement.tobs), func.max(Measurement.tobs)).\\\n",
    "        filter(Measurement.date >= start_date).filter(Measurement.date <= end_date).all()\n",
    "\n",
    "# function usage example\n",
    "print(calc_temps('2012-02-28', '2012-03-05'))"
   ]
  },
  {
   "cell_type": "code",
   "execution_count": null,
   "metadata": {},
   "outputs": [],
   "source": [
    "# Use your previous function `calc_temps` to calculate the tmin, tavg, and tmax \n",
    "# for your trip using the previous year's data for those same dates.\n"
   ]
  },
  {
   "cell_type": "code",
   "execution_count": null,
   "metadata": {},
   "outputs": [],
   "source": [
    "# Plot the results from your previous query as a bar chart. \n",
    "# Use \"Trip Avg Temp\" as your Title\n",
    "# Use the average temperature for the y value\n",
    "# Use the peak-to-peak (tmax-tmin) value as the y error bar (yerr)\n"
   ]
  },
  {
   "cell_type": "code",
   "execution_count": null,
   "metadata": {},
   "outputs": [],
   "source": [
    "# Calculate the total amount of rainfall per weather station for your trip dates using the previous year's matching dates.\n",
    "# Sort this in descending order by precipitation amount and list the station, name, latitude, longitude, and elevation\n",
    "\n"
   ]
  },
  {
   "cell_type": "code",
   "execution_count": 3,
   "metadata": {},
   "outputs": [
    {
     "data": {
      "text/plain": [
       "[(62.0, 69.15384615384616, 77.0)]"
      ]
     },
     "execution_count": 3,
     "metadata": {},
     "output_type": "execute_result"
    }
   ],
   "source": [
    "# Create a query that will calculate the daily normals \n",
    "# (i.e. the averages for tmin, tmax, and tavg for all historic data matching a specific month and day)\n",
    "\n",
    "def daily_normals(date):\n",
    "    \"\"\"Daily Normals.\n",
    "    \n",
    "    Args:\n",
    "        date (str): A date string in the format '%m-%d'\n",
    "        \n",
    "    Returns:\n",
    "        A list of tuples containing the daily normals, tmin, tavg, and tmax\n",
    "    \n",
    "    \"\"\"\n",
    "    \n",
    "    sel = [func.min(Measurement.tobs), func.avg(Measurement.tobs), func.max(Measurement.tobs)]\n",
    "    return session.query(*sel).filter(func.strftime(\"%m-%d\", Measurement.date) == date).all()\n",
    "    \n",
    "daily_normals(\"01-01\")"
   ]
  },
  {
   "cell_type": "code",
   "execution_count": null,
   "metadata": {},
   "outputs": [],
   "source": [
    "# calculate the daily normals for your trip\n",
    "# push each tuple of calculations into a list called `normals`\n",
    "\n",
    "# Set the start and end date of the trip\n",
    "\n",
    "# Use the start and end date to create a range of dates\n",
    "\n",
    "# Stip off the year and save a list of %m-%d strings\n",
    "\n",
    "# Loop through the list of %m-%d strings and calculate the normals for each date\n"
   ]
  },
  {
   "cell_type": "code",
   "execution_count": null,
   "metadata": {},
   "outputs": [],
   "source": [
    "# Load the previous query results into a Pandas DataFrame and add the `trip_dates` range as the `date` index\n"
   ]
  },
  {
   "cell_type": "code",
   "execution_count": null,
   "metadata": {},
   "outputs": [],
   "source": [
    "# Plot the daily normals as an area plot with `stacked=False`\n"
   ]
  }
 ],
 "metadata": {
  "kernel_info": {
   "name": "python3"
  },
  "kernelspec": {
   "display_name": "Python 3",
   "language": "python",
   "name": "python3"
  },
  "language_info": {
   "codemirror_mode": {
    "name": "ipython",
    "version": 3
   },
   "file_extension": ".py",
   "mimetype": "text/x-python",
   "name": "python",
   "nbconvert_exporter": "python",
   "pygments_lexer": "ipython3",
   "version": "3.7.4"
  },
  "nteract": {
   "version": "0.12.3"
  },
  "varInspector": {
   "cols": {
    "lenName": 16,
    "lenType": 16,
    "lenVar": 40
   },
   "kernels_config": {
    "python": {
     "delete_cmd_postfix": "",
     "delete_cmd_prefix": "del ",
     "library": "var_list.py",
     "varRefreshCmd": "print(var_dic_list())"
    },
    "r": {
     "delete_cmd_postfix": ") ",
     "delete_cmd_prefix": "rm(",
     "library": "var_list.r",
     "varRefreshCmd": "cat(var_dic_list()) "
    }
   },
   "types_to_exclude": [
    "module",
    "function",
    "builtin_function_or_method",
    "instance",
    "_Feature"
   ],
   "window_display": false
  }
 },
 "nbformat": 4,
 "nbformat_minor": 2
}
